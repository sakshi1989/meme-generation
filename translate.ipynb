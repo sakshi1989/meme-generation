{
 "cells": [
  {
   "cell_type": "code",
   "execution_count": 1,
   "metadata": {},
   "outputs": [],
   "source": [
    "import numpy as np\n",
    "import os\n",
    "import random\n",
    "from googletrans import Translator\n",
    "import concurrent.futures\n",
    "import time\n",
    "import tqdm\n",
    "import itertools\n",
    "import json\n",
    "\n",
    "PROJECT_DIR = os.getcwd()  # get the current working directory"
   ]
  },
  {
   "cell_type": "code",
   "execution_count": 2,
   "metadata": {},
   "outputs": [
    {
     "name": "stdout",
     "output_type": "stream",
     "text": [
      "30227\n"
     ]
    }
   ],
   "source": [
    "# Load the saved identified non english captions\n",
    "non_english_captions = np.load(\n",
    "    os.path.join(PROJECT_DIR, \"non_english_captions.npy\"), allow_pickle=True\n",
    ")\n",
    "print(len(non_english_captions))"
   ]
  },
  {
   "cell_type": "code",
   "execution_count": 3,
   "metadata": {},
   "outputs": [],
   "source": [
    "# Ref - https://www.packetswitch.co.uk/what-is-concurrent-futures-and-how-can-it-boost-your-python-performance/ (for parallel processing)\n",
    "\n",
    "# Create a translator object\n",
    "translator = Translator()\n",
    "\n",
    "# Define a function to translate a caption to English\n",
    "def translate_to_english(caption):\n",
    "    try:\n",
    "        return caption, translator.translate(caption).text\n",
    "    except: \n",
    "        print(\"Error\")       \n",
    "        return caption, None\n",
    "\n",
    "# Use parallel processing to translate the captions to English\n",
    "translated_captions = {}"
   ]
  },
  {
   "cell_type": "code",
   "execution_count": 4,
   "metadata": {},
   "outputs": [
    {
     "name": "stdout",
     "output_type": "stream",
     "text": [
      "The length of non-english captions remaining for translation: 29974\n",
      "Error\n",
      "Waiting for 10 seconds\n",
      "The length of non-english captions remaining for translation: 29475\n",
      "The length of non-english captions remaining for translation: 28975\n",
      "The length of non-english captions remaining for translation: 28475\n",
      "Error\n",
      "Error\n",
      "Error\n",
      "Error\n",
      "Error\n",
      "Error\n",
      "Error\n",
      "Waiting for 10 seconds\n",
      "The length of non-english captions remaining for translation: 27982\n",
      "The length of non-english captions remaining for translation: 27482\n",
      "The length of non-english captions remaining for translation: 26982\n",
      "The length of non-english captions remaining for translation: 26482\n",
      "The length of non-english captions remaining for translation: 25982\n",
      "The length of non-english captions remaining for translation: 25482\n",
      "The length of non-english captions remaining for translation: 24982\n",
      "The length of non-english captions remaining for translation: 24482\n",
      "The length of non-english captions remaining for translation: 23982\n",
      "The length of non-english captions remaining for translation: 23482\n",
      "The length of non-english captions remaining for translation: 22982\n",
      "The length of non-english captions remaining for translation: 22482\n",
      "The length of non-english captions remaining for translation: 21982\n",
      "Error\n",
      "Waiting for 10 seconds\n",
      "The length of non-english captions remaining for translation: 21483\n",
      "Error\n",
      "Waiting for 10 seconds\n",
      "The length of non-english captions remaining for translation: 20984\n",
      "The length of non-english captions remaining for translation: 20484\n",
      "The length of non-english captions remaining for translation: 19984\n",
      "The length of non-english captions remaining for translation: 19484\n",
      "Error\n",
      "Waiting for 10 seconds\n",
      "The length of non-english captions remaining for translation: 18985\n",
      "The length of non-english captions remaining for translation: 18485\n",
      "Error\n",
      "Waiting for 10 seconds\n",
      "The length of non-english captions remaining for translation: 17986\n",
      "The length of non-english captions remaining for translation: 17486\n",
      "The length of non-english captions remaining for translation: 16986\n",
      "The length of non-english captions remaining for translation: 16486\n",
      "The length of non-english captions remaining for translation: 15986\n",
      "Error\n",
      "Waiting for 10 seconds\n",
      "The length of non-english captions remaining for translation: 15487\n",
      "The length of non-english captions remaining for translation: 14987\n",
      "The length of non-english captions remaining for translation: 14487\n",
      "The length of non-english captions remaining for translation: 13987\n",
      "The length of non-english captions remaining for translation: 13487\n",
      "The length of non-english captions remaining for translation: 12987\n",
      "The length of non-english captions remaining for translation: 12487\n",
      "The length of non-english captions remaining for translation: 11987\n",
      "The length of non-english captions remaining for translation: 11487\n",
      "The length of non-english captions remaining for translation: 10987\n",
      "The length of non-english captions remaining for translation: 10487\n",
      "The length of non-english captions remaining for translation: 9987\n",
      "The length of non-english captions remaining for translation: 9487\n",
      "The length of non-english captions remaining for translation: 8987\n",
      "The length of non-english captions remaining for translation: 8487\n",
      "The length of non-english captions remaining for translation: 7987\n",
      "The length of non-english captions remaining for translation: 7487\n",
      "The length of non-english captions remaining for translation: 6987\n",
      "The length of non-english captions remaining for translation: 6487\n",
      "The length of non-english captions remaining for translation: 5987\n",
      "The length of non-english captions remaining for translation: 5487\n",
      "The length of non-english captions remaining for translation: 4987\n",
      "The length of non-english captions remaining for translation: 4487\n",
      "The length of non-english captions remaining for translation: 3987\n",
      "The length of non-english captions remaining for translation: 3487\n",
      "Error\n",
      "Error\n",
      "Waiting for 10 seconds\n",
      "The length of non-english captions remaining for translation: 2989\n",
      "The length of non-english captions remaining for translation: 2489\n",
      "The length of non-english captions remaining for translation: 1989\n",
      "The length of non-english captions remaining for translation: 1489\n",
      "The length of non-english captions remaining for translation: 989\n",
      "Error\n",
      "Waiting for 10 seconds\n",
      "The length of non-english captions remaining for translation: 490\n"
     ]
    }
   ],
   "source": [
    "# Get the unique non-english captions text\n",
    "unique_non_english_captions = set(non_english_captions)\n",
    "batch_size = 500\n",
    "\n",
    "while len(unique_non_english_captions) > 0:\n",
    "    # Check the length of the set\n",
    "    print(f'The length of non-english captions remaining for translation: {len(unique_non_english_captions)}')\n",
    "\n",
    "    # Get the data of size = batch_size or of the size of non-english captions remaining from the set\n",
    "    batch_data = list(itertools.islice(unique_non_english_captions, min(batch_size, len(unique_non_english_captions))))\n",
    "\n",
    "    flag = False\n",
    "\n",
    "    with concurrent.futures.ThreadPoolExecutor(max_workers=20) as executor:\n",
    "\n",
    "        results = list(executor.map(translate_to_english, batch_data))\n",
    "\n",
    "        for caption, translated_caption in results:\n",
    "            # Add all the converted captions to the dictionary, and set the flag if any of the caption is not converted\n",
    "            if translated_caption is not None:\n",
    "                translated_captions[caption] = translated_caption\n",
    "                unique_non_english_captions.remove(caption)\n",
    "            else:\n",
    "                flag = True\n",
    "        \n",
    "        # If there was error in any of the caption, wait for 10 seconds, and then start the translation process again\n",
    "        if flag:\n",
    "            print(\"Waiting for 10 seconds\")\n",
    "            time.sleep(10)\n",
    "            flag = False \n",
    "\n",
    "# Note : In print we can see some error messages, it is because googletrans library is a workaround for google translate API.\n",
    "# Google blocks multiple requests from same API, so we need to give a wait for some time to process unconverted captions.\n",
    "# We have large number of tokens to translate, and using official API will be expensive. "
   ]
  },
  {
   "cell_type": "code",
   "execution_count": 5,
   "metadata": {},
   "outputs": [],
   "source": [
    "# Save the translated captions, to avoid hitting the API again\n",
    "with open(os.path.join(PROJECT_DIR, \"optimized_translated_captions.json\"), \"w\") as f:\n",
    "    json.dump(translated_captions, f)"
   ]
  },
  {
   "cell_type": "code",
   "execution_count": null,
   "metadata": {},
   "outputs": [],
   "source": [
    "# This approach was restarting the translation again from the first encountered error\n",
    "# (there can be scenario that in another worker thread, next caption would have been translated successfully)\n",
    "# offset = len(translated_captions)\n",
    "# batch_size = 500\n",
    "\n",
    "# while True:\n",
    "#     print(f\"Offset: {offset}\")\n",
    "#     # Creates a ThreadPoolExecutor instance as a context manager, which manages the life cycle of\n",
    "#     #  a pool of worker threads that will be used to execute tasks concurrently.\n",
    "#     with concurrent.futures.ThreadPoolExecutor(max_workers=20) as executor:\n",
    "\n",
    "#         results = list(executor.map(translate_to_english, non_english_captions[offset:offset+batch_size]))\n",
    "\n",
    "#         for i, result in enumerate(results):\n",
    "#             if result is None:\n",
    "#                 time.sleep(30)\n",
    "#                 break\n",
    "            \n",
    "#             translated_captions[offset + i] = result\n",
    "\n",
    "#     offset = len(translated_captions)\n",
    "    \n",
    "#     if offset >= len(non_english_captions):\n",
    "#         break  \n",
    "    "
   ]
  },
  {
   "cell_type": "code",
   "execution_count": 17,
   "metadata": {},
   "outputs": [
    {
     "name": "stderr",
     "output_type": "stream",
     "text": [
      "100%|██████████| 28422/28422 [00:00<00:00, 702800.98it/s]\n"
     ]
    }
   ],
   "source": [
    "# Map the index to the non-translated caption and make a new dictionary to store key value pairs of non-translated and translated captions\n",
    "# translated_captions_new = {}\n",
    "# for key, value in tqdm.tqdm(translated_captions.items()):\n",
    "#     non_english_caption = non_english_captions[key]\n",
    "#     translated_captions_new[non_english_caption] = value\n",
    "\n",
    "# # Save as JSON\n",
    "# with open(os.path.join(PROJECT_DIR, \"translated_captions.json\"), \"w\") as f:\n",
    "#     json.dump(translated_captions_new, f)"
   ]
  }
 ],
 "metadata": {
  "kernelspec": {
   "display_name": "deephumor",
   "language": "python",
   "name": "python3"
  },
  "language_info": {
   "codemirror_mode": {
    "name": "ipython",
    "version": 3
   },
   "file_extension": ".py",
   "mimetype": "text/x-python",
   "name": "python",
   "nbconvert_exporter": "python",
   "pygments_lexer": "ipython3",
   "version": "3.10.0"
  },
  "orig_nbformat": 4
 },
 "nbformat": 4,
 "nbformat_minor": 2
}
