{
 "cells": [
  {
   "cell_type": "markdown",
   "metadata": {},
   "source": [
    "This Python document covers the steps required to modify the preprocessing.ipynb document to run in Google Colab. This file assumes the following file path to the meme-generation folder in MyDrive: MyDrive/meme-generation"
   ]
  },
  {
   "cell_type": "code",
   "execution_count": null,
   "metadata": {
    "vscode": {
     "languageId": "plaintext"
    }
   },
   "outputs": [],
   "source": [
    "from google.colab import drive\n",
    "drive.mount('/content/drive')"
   ]
  },
  {
   "cell_type": "markdown",
   "metadata": {},
   "source": [
    "Run this above code block before the instantiation of the PROJECT_DIR variable"
   ]
  },
  {
   "cell_type": "code",
   "execution_count": null,
   "metadata": {
    "vscode": {
     "languageId": "plaintext"
    }
   },
   "outputs": [],
   "source": [
    "PROJECT_DIR = os.getcwd()  # get the current working directory\n",
    "DATA_DIR = os.path.join(PROJECT_DIR, 'drive/MyDrive/meme-generation/data') # Concatenate the folder name which contains images\n",
    "DATA_DIR  # Check the final path value"
   ]
  },
  {
   "cell_type": "markdown",
   "metadata": {},
   "source": [
    "Replace the PROJECT_DIR code block to contain the above code. "
   ]
  }
 ],
 "metadata": {
  "language_info": {
   "name": "python"
  }
 },
 "nbformat": 4,
 "nbformat_minor": 2
}
