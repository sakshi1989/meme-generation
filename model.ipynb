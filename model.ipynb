{
 "cells": [
  {
   "cell_type": "markdown",
   "metadata": {},
   "source": [
    "# Build Model"
   ]
  },
  {
   "cell_type": "code",
   "execution_count": 1,
   "metadata": {},
   "outputs": [],
   "source": [
    "import torch\n",
    "from torch import nn\n",
    "from torchvision import models"
   ]
  },
  {
   "cell_type": "code",
   "execution_count": null,
   "metadata": {},
   "outputs": [],
   "source": [
    "# Torch Module using GloVe Embeddings\n",
    "\n",
    "class CaptionEncoder(nn.module):\n",
    "    def __init__(self, embed_size):\n",
    "        super(CaptionEncoder, self).__init__()\n",
    "\n",
    "        self.embed_size = embed_size\n",
    "        \n",
    "        self.embed = nn.Embedding.from_pretrained(torch.load('glove.twitter.27B.pt'))\n",
    "\n",
    "        self.lstm = nn.LSTM(input_size=300, hidden_size=embed_size, num_layers=1, batch_first=True)\n",
    "        \n",
    "    def forward(self, x):\n",
    "        x = self.embed(x)\n",
    "        x, _ = self.lstm(x)\n",
    "        return x"
   ]
  },
  {
   "cell_type": "code",
   "execution_count": null,
   "metadata": {},
   "outputs": [],
   "source": [
    "# Torch module for image encoding using Inceptionv4\n",
    "\n",
    "class ImageEncoder(nn.Module):\n",
    "    def __init__(self, embed_size):\n",
    "        super(ImageEncoder, self).__init__()\n",
    "\n",
    "        self.embed_size = embed_size\n",
    "\n",
    "        self.inception = models.inception_v3(pretrained=True)\n",
    "        self.inception.fc = nn.Linear(in_features=2048, out_features=embed_size)\n",
    "\n",
    "    def forward(self, x):\n",
    "        x = self.inception(x)\n",
    "        return x"
   ]
  },
  {
   "cell_type": "code",
   "execution_count": null,
   "metadata": {},
   "outputs": [],
   "source": [
    "class ImageLabelEncoder(nn.Module):\n",
    "    \"\"\"ImageLabel encoder.\n",
    "\n",
    "    Encodes images and text labels into a single embedding of size `emb_dim`.\n",
    "    \"\"\"\n",
    "\n",
    "    def __init__(self, num_tokens, emb_dim=256, dropout=0.2):\n",
    "        \"\"\"Initializes LabelEncoder.\n",
    "\n",
    "        Args:\n",
    "            num_tokens: number of tokens in the vocabulary\n",
    "            emb_dim (int): dimensions of the output embedding\n",
    "            dropout (float): dropout for the encoded features\n",
    "        \"\"\"\n",
    "        super().__init__()\n",
    "        self.image_encoder = ImageEncoder(emb_dim, dropout)\n",
    "        self.label_encoder = LabelEncoder(num_tokens, emb_dim, dropout)\n",
    "        self.linear = nn.Linear(2 * emb_dim, emb_dim)\n",
    "        self.dropout = nn.Dropout(dropout)\n",
    "\n",
    "    def forward(self, images, labels):\n",
    "        \"\"\"\n",
    "        Args:\n",
    "            images (torch.Tensor): input images of shape `[bs, width, height]`\n",
    "            labels (torch.Tensor): input text labels of shape `[bs, seq_len]`\n",
    "\n",
    "        Returns:\n",
    "            torch.Tensor: combined image-label embedding of shape `[bs, emb_dim]`\n",
    "        \"\"\"\n",
    "        image_emb = self.image_encoder(images)\n",
    "        label_emb = self.label_encoder(labels)\n",
    "\n",
    "        emb = torch.cat([image_emb, label_emb], dim=1)\n",
    "        emb = self.dropout(self.linear(emb))\n",
    "\n",
    "        return emb"
   ]
  }
 ],
 "metadata": {
  "kernelspec": {
   "display_name": "deephumor",
   "language": "python",
   "name": "python3"
  },
  "language_info": {
   "codemirror_mode": {
    "name": "ipython",
    "version": 3
   },
   "file_extension": ".py",
   "mimetype": "text/x-python",
   "name": "python",
   "nbconvert_exporter": "python",
   "pygments_lexer": "ipython3",
   "version": "3.11.5"
  },
  "orig_nbformat": 4
 },
 "nbformat": 4,
 "nbformat_minor": 2
}
